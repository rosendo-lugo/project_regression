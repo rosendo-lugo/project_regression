{
 "cells": [
  {
   "cell_type": "markdown",
   "id": "33fc16d2-fc99-4de6-ab4d-e1aab31e77b0",
   "metadata": {},
   "source": [
    "# Regression Project"
   ]
  },
  {
   "cell_type": "markdown",
   "id": "17da7e06-929d-4a07-b3ea-377bd21ae8be",
   "metadata": {},
   "source": [
    "## GOALS:"
   ]
  },
  {
   "cell_type": "markdown",
   "id": "a51add0e-3f77-4cc2-80c4-065add977061",
   "metadata": {},
   "source": [
    "## IMPORTS"
   ]
  },
  {
   "cell_type": "code",
   "execution_count": 1,
   "id": "e2e3aa4e-586e-44dc-b878-7dca3d79e0b2",
   "metadata": {},
   "outputs": [
    {
     "ename": "IndentationError",
     "evalue": "unindent does not match any outer indentation level (wrangle.py, line 219)",
     "output_type": "error",
     "traceback": [
      "Traceback \u001b[0;36m(most recent call last)\u001b[0m:\n",
      "  File \u001b[1;32m/opt/homebrew/anaconda3/lib/python3.9/site-packages/IPython/core/interactiveshell.py:3398\u001b[0m in \u001b[1;35mrun_code\u001b[0m\n    exec(code_obj, self.user_global_ns, self.user_ns)\n",
      "\u001b[0;36m  Input \u001b[0;32mIn [1]\u001b[0;36m in \u001b[0;35m<cell line: 6>\u001b[0;36m\u001b[0m\n\u001b[0;31m    import wrangle as w\u001b[0m\n",
      "\u001b[0;36m  File \u001b[0;32m~/codeup-data-science/regression-exercises/project_regression/wrangle.py:219\u001b[0;36m\u001b[0m\n\u001b[0;31m    columns=['bedrooms', 'bathrooms','area','yearbuilt','taxamount','tax_rate']\u001b[0m\n\u001b[0m                                                                               ^\u001b[0m\n\u001b[0;31mIndentationError\u001b[0m\u001b[0;31m:\u001b[0m unindent does not match any outer indentation level\n"
     ]
    }
   ],
   "source": [
    "# Standard imports\n",
    "import numpy as np\n",
    "import pandas as pd\n",
    "\n",
    "# My imports\n",
    "import wrangle as w\n",
    "import explore as e\n",
    "\n",
    "from pydataset import data\n",
    "\n",
    "import matplotlib.pyplot as plt\n",
    "import seaborn as sns\n",
    "\n",
    "# Stats\n",
    "from sklearn.model_selection import train_test_split\n",
    "from sklearn.linear_model import LinearRegression\n",
    "from sklearn.metrics import mean_squared_error\n",
    "from sklearn.metrics import r2_score\n",
    "from sklearn.linear_model import LassoLars\n",
    "from sklearn.preprocessing import PolynomialFeatures\n",
    "from sklearn.linear_model import TweedieRegressor\n",
    "from sklearn.feature_selection import SelectKBest, RFE, f_regression, SequentialFeatureSelector\n",
    "\n",
    "# Ignore warnings\n",
    "import warnings\n",
    "warnings.filterwarnings('ignore')"
   ]
  },
  {
   "cell_type": "markdown",
   "id": "5e8774cd-6e2d-427b-b180-1e3459c8ce14",
   "metadata": {},
   "source": [
    "## AQUIRE, PREPARE AND SPLIT DATA"
   ]
  },
  {
   "cell_type": "code",
   "execution_count": null,
   "id": "7a214cc3-a84a-4890-b889-7cbdbbccaddc",
   "metadata": {},
   "outputs": [],
   "source": [
    "df, prep_df = w.get_zillow_data()"
   ]
  },
  {
   "cell_type": "code",
   "execution_count": null,
   "id": "4ce1a3de-75fa-4b9c-a261-a6a21fe16259",
   "metadata": {},
   "outputs": [],
   "source": [
    "train, validate, test = w.get_split(df)"
   ]
  },
  {
   "cell_type": "code",
   "execution_count": null,
   "id": "b12ccec0-f33b-4dce-b90c-205cb887187d",
   "metadata": {},
   "outputs": [],
   "source": [
    "train.shape, validate.shape, test.shape"
   ]
  },
  {
   "cell_type": "code",
   "execution_count": null,
   "id": "7422af93-addc-4d72-9626-349e9f8ef7b1",
   "metadata": {},
   "outputs": [],
   "source": [
    "target = 'property_value'"
   ]
  },
  {
   "cell_type": "code",
   "execution_count": null,
   "id": "7358df33-e3fc-464a-802f-d169e4f2f6d3",
   "metadata": {},
   "outputs": [],
   "source": [
    "X_tr, X_val, X_ts, y_tr, y_val, y_ts,to_scale, baseline = w.get_Xs(tr,val,ts, target)"
   ]
  },
  {
   "cell_type": "code",
   "execution_count": null,
   "id": "2f697ecb-e021-4e43-b3e3-b46e33f960b3",
   "metadata": {},
   "outputs": [],
   "source": [
    "X_tr_sc, X_val_sc, X_ts_sc = w.scale_data(X_tr, X_val, X_ts,to_scale)"
   ]
  },
  {
   "cell_type": "code",
   "execution_count": null,
   "id": "59cbee5e-2640-4903-b8b2-ad8e63788f8b",
   "metadata": {},
   "outputs": [],
   "source": [
    "baseline"
   ]
  },
  {
   "cell_type": "code",
   "execution_count": null,
   "id": "895c9c51-c26c-469b-9e74-32cced886632",
   "metadata": {},
   "outputs": [],
   "source": []
  },
  {
   "cell_type": "code",
   "execution_count": null,
   "id": "9abc8349-9397-4d4c-81ba-617b4a37a2c9",
   "metadata": {},
   "outputs": [],
   "source": []
  },
  {
   "cell_type": "code",
   "execution_count": null,
   "id": "05d76ba4-2bd4-4f9c-8d79-9abe1c4ba49b",
   "metadata": {},
   "outputs": [],
   "source": []
  },
  {
   "cell_type": "code",
   "execution_count": null,
   "id": "fe160cc5-ec89-4019-9772-92d8a7cc05c2",
   "metadata": {},
   "outputs": [],
   "source": []
  },
  {
   "cell_type": "code",
   "execution_count": null,
   "id": "8d43e480-b2de-4c8b-a430-9ddc6aa9a32b",
   "metadata": {},
   "outputs": [],
   "source": []
  }
 ],
 "metadata": {
  "kernelspec": {
   "display_name": "Python 3 (ipykernel)",
   "language": "python",
   "name": "python3"
  },
  "language_info": {
   "codemirror_mode": {
    "name": "ipython",
    "version": 3
   },
   "file_extension": ".py",
   "mimetype": "text/x-python",
   "name": "python",
   "nbconvert_exporter": "python",
   "pygments_lexer": "ipython3",
   "version": "3.9.13"
  }
 },
 "nbformat": 4,
 "nbformat_minor": 5
}
